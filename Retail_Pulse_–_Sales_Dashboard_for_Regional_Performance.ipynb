{
  "nbformat": 4,
  "nbformat_minor": 0,
  "metadata": {
    "colab": {
      "provenance": []
    },
    "kernelspec": {
      "name": "python3",
      "display_name": "Python 3"
    },
    "language_info": {
      "name": "python"
    }
  },
  "cells": [
    {
      "cell_type": "markdown",
      "source": [
        "**Project Title : RetailPulse - Sales Dashboard for Regional Performance**"
      ],
      "metadata": {
        "id": "41W31ylsUPzA"
      }
    },
    {
      "cell_type": "markdown",
      "source": [
        "**Objective** : Build a dashboard to visualize regional sales performance, identify top-performing zones, and recommend actions based on trends."
      ],
      "metadata": {
        "id": "c78CI_n6UVxD"
      }
    },
    {
      "cell_type": "markdown",
      "source": [
        "**Business Context** : A retail chain wants to monitor weekly sales across regions to optimize promotions, staffing, and inventory. A visual dashboard helps leadership make fast, data-driven decisions."
      ],
      "metadata": {
        "id": "SvADrGs7UhAg"
      }
    },
    {
      "cell_type": "markdown",
      "source": [
        "**Workflow Overview** :\n",
        "- Simulate regional sales data  \n",
        "- Aggregate KPIs (total sales, average basket size, growth rate)  \n",
        "- Visualize trends and comparisons  \n",
        "- Highlight top and bottom performers  \n",
        "- Summarize insights and business recommendations"
      ],
      "metadata": {
        "id": "D1dmmANuUlba"
      }
    },
    {
      "cell_type": "code",
      "source": [
        "# Step 1: Import libraries\n",
        "import pandas as pd\n",
        "import numpy as np\n",
        "import matplotlib.pyplot as plt\n",
        "import seaborn as sns\n",
        "\n",
        "# Step 2: Simulate weekly regional sales data\n",
        "np.random.seed(42)\n",
        "regions = ['North', 'South', 'East', 'West']\n",
        "weeks = pd.date_range(start='2023-01-01', periods=12, freq='W')\n",
        "data = []\n",
        "\n",
        "for region in regions:\n",
        "    for week in weeks:\n",
        "        sales = np.random.normal(50000, 10000)\n",
        "        basket = np.random.normal(3.2, 0.5)\n",
        "        data.append([region, week, round(sales, 2), round(basket, 2)])\n",
        "\n",
        "df = pd.DataFrame(data, columns=['Region', 'Week', 'Sales', 'AvgBasketSize'])\n",
        "\n",
        "# Step 3: KPI summary\n",
        "kpi = df.groupby('Region').agg({\n",
        "    'Sales': ['sum', 'mean'],\n",
        "    'AvgBasketSize': 'mean'\n",
        "}).round(2)\n",
        "\n",
        "# Step 4: Visualize sales trends\n",
        "plt.figure(figsize=(10,6))\n",
        "sns.lineplot(data=df, x='Week', y='Sales', hue='Region', marker='o')\n",
        "plt.title('Weekly Sales by Region')\n",
        "plt.ylabel('Sales')\n",
        "plt.grid(True)\n",
        "plt.tight_layout()\n",
        "plt.show()"
      ],
      "metadata": {
        "id": "tcNbt_ECUpfe"
      },
      "execution_count": null,
      "outputs": []
    },
    {
      "cell_type": "markdown",
      "source": [
        "**Executive Summary** :\n",
        "- **Top Region**: West – highest total and average sales  \n",
        "- **Lowest Region**: East – declining trend over 3 weeks  \n",
        "- **Avg Basket Size**: Highest in North  \n",
        "- **Recommendation**: Boost promotions in East, maintain momentum in West, explore upselling in North"
      ],
      "metadata": {
        "id": "UebE6J6vUrNn"
      }
    }
  ]
}